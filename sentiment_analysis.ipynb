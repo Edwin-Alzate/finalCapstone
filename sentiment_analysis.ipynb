{
 "cells": [
  {
   "cell_type": "markdown",
   "metadata": {},
   "source": [
    "\"\"\" This program performs sentiment analysis on a dataset of product reviews. \"\"\""
   ]
  },
  {
   "cell_type": "code",
   "execution_count": 1,
   "metadata": {},
   "outputs": [],
   "source": [
    "# Load the packages that the program will use\n",
    "import pandas as pd\n",
    "import spacy\n",
    "from spacy.lang.en.stop_words import STOP_WORDS\n",
    "import string\n",
    "import random\n",
    "from textblob import TextBlob\n",
    "\n",
    "# Load the english model.\n",
    "nlp = spacy.load('en_core_web_md')\n",
    "\n",
    "# Read the csv file that contains the dataset.\n",
    "df = pd.read_csv('amazon_product_reviews.csv')"
   ]
  },
  {
   "cell_type": "code",
   "execution_count": 2,
   "metadata": {},
   "outputs": [
    {
     "data": {
      "text/plain": [
       "0       I thought it would be as big as small paper bu...\n",
       "1       This kindle is light and easy to use especiall...\n",
       "2       Didnt know how much i'd use a kindle so went f...\n",
       "3       I am 100 happy with my purchase. I caught it o...\n",
       "4       Solid entry level Kindle. Great for kids. Gift...\n",
       "                              ...                        \n",
       "4995    This is a great tablet for the price. Amazon i...\n",
       "4996    This tablet is the perfect size and so easy to...\n",
       "4997    Purchased this for my son. Has room to upgrade...\n",
       "4998    I had some thoughts about getting this for a 5...\n",
       "4999    this is a steal, have 8 gb model as well.This ...\n",
       "Name: reviews.text, Length: 5000, dtype: object"
      ]
     },
     "execution_count": 2,
     "metadata": {},
     "output_type": "execute_result"
    }
   ],
   "source": [
    "# Select the column that contains data we need for the analysis.\n",
    "reviews = df['reviews.text']\n",
    "\n",
    "# Call the variable to check it has the desired content.\n",
    "reviews"
   ]
  },
  {
   "cell_type": "code",
   "execution_count": 3,
   "metadata": {},
   "outputs": [],
   "source": [
    "# Clean the data from missing values\n",
    "clean_df = df.dropna(subset=['reviews.text'])"
   ]
  },
  {
   "cell_type": "code",
   "execution_count": 4,
   "metadata": {},
   "outputs": [],
   "source": [
    "# Define a function to process and clean the text of the reviews\n",
    "\n",
    "def process_data(text):\n",
    "\n",
    "    # Lowercasing the text to have consistency between the words.\n",
    "    text = text.lower()     \n",
    "\n",
    "    # Removing special characters and punctuation from the text\n",
    "    text = ''.join([char for char in text if char not in string.punctuation])\n",
    "\n",
    "    doc = nlp(text)     # Tokenization of each word in the text\n",
    "\n",
    "    # Removing stop words and doing lemmatization to the tokens\n",
    "    tokens = [token.lemma_ for token in doc if token not in STOP_WORDS]\n",
    "\n",
    "    processed_text = ' '.join(tokens)    # Joining tokens into a string\n",
    "\n",
    "    return processed_text\n",
    "    "
   ]
  },
  {
   "cell_type": "code",
   "execution_count": 5,
   "metadata": {},
   "outputs": [],
   "source": [
    "# Create a function to do sentiment analysis on the processed_text\n",
    "def analyze_sentiment(text):\n",
    "\n",
    "    analysis = TextBlob(text)       # Create the TextBlob object to analize the sentiment polarity\n",
    "\n",
    "    # Create a conditional statmenet to check the polarity score and express it in words\n",
    "    if analysis.sentiment.polarity > 0:\n",
    "        return \"Positive\"\n",
    "    elif analysis.sentiment.polarity == 0:\n",
    "        return \"Neutral\"\n",
    "    else:\n",
    "        return \"Negative\""
   ]
  },
  {
   "cell_type": "code",
   "execution_count": 7,
   "metadata": {},
   "outputs": [
    {
     "name": "stdout",
     "output_type": "stream",
     "text": [
      "I do not like this tablet\n",
      "- Has a Neutral sentiment.\n"
     ]
    }
   ],
   "source": [
    "# Testing the program\n",
    "\n",
    "text = \"I do not like this tablet\"        # Declaring a variable to store a string\n",
    "\n",
    "cleaned_text = process_data(text)       # Applying the function to the text\n",
    "\n",
    "analized_text = analyze_sentiment(cleaned_text)     # Analyzing the sentiment of the text\n",
    "\n",
    "# Display the results\n",
    "print(cleaned_text)\n",
    "print(f\"- Has a {analized_text} sentiment.\")"
   ]
  },
  {
   "cell_type": "code",
   "execution_count": 10,
   "metadata": {},
   "outputs": [
    {
     "name": "stdout",
     "output_type": "stream",
     "text": [
      "- The review number: 2234\n",
      "I m enjoy the ease of have several reading option without the bulk\n",
      "- Has a Positive sentiment.\n"
     ]
    }
   ],
   "source": [
    "# Create variables to store random indexex\n",
    "random_index = random.randint(0, len(df) - 1)\n",
    "random_index_2 = random.randint(0, len(df) - 1)\n",
    "\n",
    "# Select random rows from the data\n",
    "chosen_review_A = df.loc[random_index, 'reviews.text']\n",
    "chosen_review_B = df.loc[random_index_2, 'reviews.text']\n",
    "\n",
    "# Apply the function to clean the text of the chosen reviews for the analysis\n",
    "cleaned_text_A = process_data(chosen_review_A)\n",
    "cleaned_text_B = process_data(chosen_review_B)\n",
    "\n",
    "# Call the variable with cleaned text to check the result\n",
    "analized_text = analyze_sentiment(cleaned_text_A)\n",
    "\n",
    "# Display the results\n",
    "print(f\"- The review number:\", random_index)\n",
    "print(cleaned_text_A)\n",
    "print(f\"- Has a {analized_text} sentiment.\")"
   ]
  },
  {
   "cell_type": "code",
   "execution_count": 21,
   "metadata": {},
   "outputs": [
    {
     "name": "stdout",
     "output_type": "stream",
     "text": [
      "- The review number 2234: I m enjoy the ease of have several reading option without the bulk\n",
      "- The review number 2039: move all the ad app to a folder and load what I want small size fit in my sport coat pocket\n",
      "- Have a Similarity score of: 0.73 and we can assume that the two chosen reviews are NOT similar.\n"
     ]
    }
   ],
   "source": [
    "# Check the similarity between two reviews\n",
    "doc_A = nlp(cleaned_text_A)\n",
    "doc_B = nlp(cleaned_text_B)\n",
    "\n",
    "similarity = doc_A.similarity(doc_B)\n",
    "\n",
    "assumption = ''     # Create a variable to store the conslusion after the similarity score\n",
    "\n",
    "# Create a conditional statement to check the similarity score and give an assumption\n",
    "if similarity <= 0.5:\n",
    "    assumption = \"similar\"\n",
    "else:\n",
    "    assumption = \"NOT similar\"\n",
    "\n",
    "# Display the results\n",
    "print(f\"- The review number {random_index}: {cleaned_text_A}\")\n",
    "print(f\"- The review number {random_index_2}: {cleaned_text_B}\")\n",
    "print(f\"- Have a Similarity score of: {round(similarity, 2)}\"\n",
    "f\" and we can assume that the two chosen reviews are {assumption}.\")"
   ]
  }
 ],
 "metadata": {
  "kernelspec": {
   "display_name": "Python 3",
   "language": "python",
   "name": "python3"
  },
  "language_info": {
   "codemirror_mode": {
    "name": "ipython",
    "version": 3
   },
   "file_extension": ".py",
   "mimetype": "text/x-python",
   "name": "python",
   "nbconvert_exporter": "python",
   "pygments_lexer": "ipython3",
   "version": "3.12.0"
  }
 },
 "nbformat": 4,
 "nbformat_minor": 2
}
